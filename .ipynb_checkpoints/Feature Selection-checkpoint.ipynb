{
 "cells": [
  {
   "cell_type": "markdown",
   "metadata": {},
   "source": [
    "# Feature Selection Techniques\n",
    "\n",
    "In this workbook, I look at different feature selection methods. This is also called *dimensionality reduction*.\n",
    "\n",
    "Feature selection is important. Because when number of features increases,\n",
    "1. Model might impacted due to *curse of dimensionality*. Feature space is so big that model might not be able to effectively learn from the dataset.\n",
    "2. Model complexity increases. It is hard to interpret the model because it relies on huge number of features. In cases, most of the features may not contribute effectively to the improvement of the metric that we trying to maximize. \n",
    "3. Model demands high resources, in terms of time for training and predictions, memory requirements.\n",
    "\n",
    "In the subsequent text, I will look at different feature selection mechanisms. \n",
    "\n",
    "\n",
    "__Important Resources:__\n",
    "* sklearn user guide: https://scikit-learn.org/stable/modules/feature_selection.html#univariate-feature-selection\n",
    "* Vishal Patel (PyData DC2016)| A Practical Guide to Dimensionality Reduction Techniques: https://www.youtube.com/watch?v=ioXKxulmwVQ\n",
    "* Krish Naik Video: https://www.youtube.com/watch?v=EqLBAmtKMnQ\n",
    "* Data School video: https://www.youtube.com/watch?v=YaKMeAlHgqQ"
   ]
  },
  {
   "cell_type": "markdown",
   "metadata": {},
   "source": [
    "## Data Import and Preliminary Review "
   ]
  },
  {
   "cell_type": "code",
   "execution_count": 23,
   "metadata": {
    "ExecuteTime": {
     "end_time": "2020-06-30T00:47:48.207299Z",
     "start_time": "2020-06-30T00:47:47.717732Z"
    }
   },
   "outputs": [],
   "source": [
    "import pandas as pd\n",
    "import numpy as np\n",
    "import matplotlib.pyplot as plt\n",
    "\n",
    "# Import dataset\n",
    "data = pd.read_csv(\"mobile_handset_data.csv\")\n",
    "\n",
    "# split independant and dependant features \n",
    "X = data.iloc[:,:-1]   #independent columns\n",
    "y = data.iloc[:,-1]    #target column i.e price class"
   ]
  },
  {
   "cell_type": "code",
   "execution_count": 2,
   "metadata": {
    "ExecuteTime": {
     "end_time": "2020-06-30T00:17:05.575065Z",
     "start_time": "2020-06-30T00:17:05.543474Z"
    }
   },
   "outputs": [
    {
     "data": {
      "text/html": [
       "<div>\n",
       "<style scoped>\n",
       "    .dataframe tbody tr th:only-of-type {\n",
       "        vertical-align: middle;\n",
       "    }\n",
       "\n",
       "    .dataframe tbody tr th {\n",
       "        vertical-align: top;\n",
       "    }\n",
       "\n",
       "    .dataframe thead th {\n",
       "        text-align: right;\n",
       "    }\n",
       "</style>\n",
       "<table border=\"1\" class=\"dataframe\">\n",
       "  <thead>\n",
       "    <tr style=\"text-align: right;\">\n",
       "      <th></th>\n",
       "      <th>battery_power</th>\n",
       "      <th>blue</th>\n",
       "      <th>clock_speed</th>\n",
       "      <th>dual_sim</th>\n",
       "      <th>fc</th>\n",
       "      <th>four_g</th>\n",
       "      <th>int_memory</th>\n",
       "      <th>m_dep</th>\n",
       "      <th>mobile_wt</th>\n",
       "      <th>n_cores</th>\n",
       "      <th>pc</th>\n",
       "      <th>px_height</th>\n",
       "      <th>px_width</th>\n",
       "      <th>ram</th>\n",
       "      <th>sc_h</th>\n",
       "      <th>sc_w</th>\n",
       "      <th>talk_time</th>\n",
       "      <th>three_g</th>\n",
       "      <th>touch_screen</th>\n",
       "      <th>wifi</th>\n",
       "    </tr>\n",
       "  </thead>\n",
       "  <tbody>\n",
       "    <tr>\n",
       "      <th>0</th>\n",
       "      <td>842</td>\n",
       "      <td>0</td>\n",
       "      <td>2.2</td>\n",
       "      <td>0</td>\n",
       "      <td>1</td>\n",
       "      <td>0</td>\n",
       "      <td>7</td>\n",
       "      <td>0.6</td>\n",
       "      <td>188</td>\n",
       "      <td>2</td>\n",
       "      <td>2</td>\n",
       "      <td>20</td>\n",
       "      <td>756</td>\n",
       "      <td>2549</td>\n",
       "      <td>9</td>\n",
       "      <td>7</td>\n",
       "      <td>19</td>\n",
       "      <td>0</td>\n",
       "      <td>0</td>\n",
       "      <td>1</td>\n",
       "    </tr>\n",
       "    <tr>\n",
       "      <th>1</th>\n",
       "      <td>1021</td>\n",
       "      <td>1</td>\n",
       "      <td>0.5</td>\n",
       "      <td>1</td>\n",
       "      <td>0</td>\n",
       "      <td>1</td>\n",
       "      <td>53</td>\n",
       "      <td>0.7</td>\n",
       "      <td>136</td>\n",
       "      <td>3</td>\n",
       "      <td>6</td>\n",
       "      <td>905</td>\n",
       "      <td>1988</td>\n",
       "      <td>2631</td>\n",
       "      <td>17</td>\n",
       "      <td>3</td>\n",
       "      <td>7</td>\n",
       "      <td>1</td>\n",
       "      <td>1</td>\n",
       "      <td>0</td>\n",
       "    </tr>\n",
       "    <tr>\n",
       "      <th>2</th>\n",
       "      <td>563</td>\n",
       "      <td>1</td>\n",
       "      <td>0.5</td>\n",
       "      <td>1</td>\n",
       "      <td>2</td>\n",
       "      <td>1</td>\n",
       "      <td>41</td>\n",
       "      <td>0.9</td>\n",
       "      <td>145</td>\n",
       "      <td>5</td>\n",
       "      <td>6</td>\n",
       "      <td>1263</td>\n",
       "      <td>1716</td>\n",
       "      <td>2603</td>\n",
       "      <td>11</td>\n",
       "      <td>2</td>\n",
       "      <td>9</td>\n",
       "      <td>1</td>\n",
       "      <td>1</td>\n",
       "      <td>0</td>\n",
       "    </tr>\n",
       "    <tr>\n",
       "      <th>3</th>\n",
       "      <td>615</td>\n",
       "      <td>1</td>\n",
       "      <td>2.5</td>\n",
       "      <td>0</td>\n",
       "      <td>0</td>\n",
       "      <td>0</td>\n",
       "      <td>10</td>\n",
       "      <td>0.8</td>\n",
       "      <td>131</td>\n",
       "      <td>6</td>\n",
       "      <td>9</td>\n",
       "      <td>1216</td>\n",
       "      <td>1786</td>\n",
       "      <td>2769</td>\n",
       "      <td>16</td>\n",
       "      <td>8</td>\n",
       "      <td>11</td>\n",
       "      <td>1</td>\n",
       "      <td>0</td>\n",
       "      <td>0</td>\n",
       "    </tr>\n",
       "    <tr>\n",
       "      <th>4</th>\n",
       "      <td>1821</td>\n",
       "      <td>1</td>\n",
       "      <td>1.2</td>\n",
       "      <td>0</td>\n",
       "      <td>13</td>\n",
       "      <td>1</td>\n",
       "      <td>44</td>\n",
       "      <td>0.6</td>\n",
       "      <td>141</td>\n",
       "      <td>2</td>\n",
       "      <td>14</td>\n",
       "      <td>1208</td>\n",
       "      <td>1212</td>\n",
       "      <td>1411</td>\n",
       "      <td>8</td>\n",
       "      <td>2</td>\n",
       "      <td>15</td>\n",
       "      <td>1</td>\n",
       "      <td>1</td>\n",
       "      <td>0</td>\n",
       "    </tr>\n",
       "  </tbody>\n",
       "</table>\n",
       "</div>"
      ],
      "text/plain": [
       "   battery_power  blue  clock_speed  dual_sim  fc  four_g  int_memory  m_dep  \\\n",
       "0            842     0          2.2         0   1       0           7    0.6   \n",
       "1           1021     1          0.5         1   0       1          53    0.7   \n",
       "2            563     1          0.5         1   2       1          41    0.9   \n",
       "3            615     1          2.5         0   0       0          10    0.8   \n",
       "4           1821     1          1.2         0  13       1          44    0.6   \n",
       "\n",
       "   mobile_wt  n_cores  pc  px_height  px_width   ram  sc_h  sc_w  talk_time  \\\n",
       "0        188        2   2         20       756  2549     9     7         19   \n",
       "1        136        3   6        905      1988  2631    17     3          7   \n",
       "2        145        5   6       1263      1716  2603    11     2          9   \n",
       "3        131        6   9       1216      1786  2769    16     8         11   \n",
       "4        141        2  14       1208      1212  1411     8     2         15   \n",
       "\n",
       "   three_g  touch_screen  wifi  \n",
       "0        0             0     1  \n",
       "1        1             1     0  \n",
       "2        1             1     0  \n",
       "3        1             0     0  \n",
       "4        1             1     0  "
      ]
     },
     "execution_count": 2,
     "metadata": {},
     "output_type": "execute_result"
    }
   ],
   "source": [
    "X.head()"
   ]
  },
  {
   "cell_type": "code",
   "execution_count": 5,
   "metadata": {
    "ExecuteTime": {
     "end_time": "2020-06-30T00:21:12.891365Z",
     "start_time": "2020-06-30T00:21:12.879332Z"
    }
   },
   "outputs": [
    {
     "name": "stdout",
     "output_type": "stream",
     "text": [
      "<class 'pandas.core.frame.DataFrame'>\n",
      "RangeIndex: 2000 entries, 0 to 1999\n",
      "Data columns (total 20 columns):\n",
      " #   Column         Non-Null Count  Dtype  \n",
      "---  ------         --------------  -----  \n",
      " 0   battery_power  2000 non-null   int64  \n",
      " 1   blue           2000 non-null   int64  \n",
      " 2   clock_speed    2000 non-null   float64\n",
      " 3   dual_sim       2000 non-null   int64  \n",
      " 4   fc             2000 non-null   int64  \n",
      " 5   four_g         2000 non-null   int64  \n",
      " 6   int_memory     2000 non-null   int64  \n",
      " 7   m_dep          2000 non-null   float64\n",
      " 8   mobile_wt      2000 non-null   int64  \n",
      " 9   n_cores        2000 non-null   int64  \n",
      " 10  pc             2000 non-null   int64  \n",
      " 11  px_height      2000 non-null   int64  \n",
      " 12  px_width       2000 non-null   int64  \n",
      " 13  ram            2000 non-null   int64  \n",
      " 14  sc_h           2000 non-null   int64  \n",
      " 15  sc_w           2000 non-null   int64  \n",
      " 16  talk_time      2000 non-null   int64  \n",
      " 17  three_g        2000 non-null   int64  \n",
      " 18  touch_screen   2000 non-null   int64  \n",
      " 19  wifi           2000 non-null   int64  \n",
      "dtypes: float64(2), int64(18)\n",
      "memory usage: 312.6 KB\n"
     ]
    }
   ],
   "source": [
    "X.info()\n",
    "# As can be seen, there are no null values in the dataset and all are in either int or float format, which suits for the \n",
    "# algorithms.\n",
    "# So, I will not go into EDA or data pre-processing stages in this dataset and directly go into different methods already in\n",
    "# sklearn for feature selection."
   ]
  },
  {
   "cell_type": "markdown",
   "metadata": {},
   "source": [
    "## Model Evaluation Helper Function\n",
    "\n",
    "I will just create a helper function to process the 10-fold cross validated result for each transformed dataset. So that we can evaluate the performance of the model with/without the feature selection."
   ]
  },
  {
   "cell_type": "code",
   "execution_count": 79,
   "metadata": {
    "ExecuteTime": {
     "end_time": "2020-06-30T01:59:20.272685Z",
     "start_time": "2020-06-30T01:59:20.266669Z"
    }
   },
   "outputs": [],
   "source": [
    "from sklearn.ensemble import ExtraTreesClassifier\n",
    "from sklearn.model_selection import cross_val_score\n",
    "\n",
    "def model_performance(X, y, cv = 10):\n",
    "    classifier = ExtraTreesClassifier()\n",
    "    mean_score = cross_val_score(classifier, X, y, cv = cv).mean()\n",
    "    return mean_score"
   ]
  },
  {
   "cell_type": "code",
   "execution_count": 81,
   "metadata": {
    "ExecuteTime": {
     "end_time": "2020-06-30T02:00:08.451599Z",
     "start_time": "2020-06-30T02:00:05.305965Z"
    }
   },
   "outputs": [
    {
     "data": {
      "text/plain": [
       "0.851"
      ]
     },
     "execution_count": 81,
     "metadata": {},
     "output_type": "execute_result"
    }
   ],
   "source": [
    "# Extra tree classifier performance with all features\n",
    "model_performance(X, y)"
   ]
  },
  {
   "cell_type": "markdown",
   "metadata": {
    "ExecuteTime": {
     "end_time": "2020-06-30T00:34:18.456980Z",
     "start_time": "2020-06-30T00:34:18.452970Z"
    }
   },
   "source": [
    "## Feature Selection Methods\n",
    "\n",
    "1. Removing features with low variance\n",
    "2. Univariate feature selection\n",
    "3. Recursive Feature Elimination (RFE and RFECV)\n",
    "4. Feature selection based on SelectFromModel (based on coef_ and feature_importance_ attributes of the model)"
   ]
  },
  {
   "cell_type": "markdown",
   "metadata": {},
   "source": [
    "### Removing features with low variance\n",
    "\n",
    "Idea behind this approach is that, if the variance is low or close to zero, then the feature is approximately constant and it will not improve the model performance. \n",
    "\n",
    "This is unsupervised way of feature elimination, because it does not look into any dependence of the given feature with respect to the target variable. "
   ]
  },
  {
   "cell_type": "code",
   "execution_count": 87,
   "metadata": {
    "ExecuteTime": {
     "end_time": "2020-06-30T02:02:50.309805Z",
     "start_time": "2020-06-30T02:02:50.299272Z"
    }
   },
   "outputs": [
    {
     "name": "stdout",
     "output_type": "stream",
     "text": [
      "Number of features in the initial dataset 20.\n",
      "Number of features after low variance filtering in the dataset 18.\n",
      "These features were dropped by the selector: Index(['m_dep', 'three_g'], dtype='object').\n"
     ]
    }
   ],
   "source": [
    "from sklearn.feature_selection import VarianceThreshold\n",
    "\n",
    "print(f'Number of features in the initial dataset {X.shape[1]}.')\n",
    "\n",
    "selector = VarianceThreshold(threshold = 0.2)  # Here, we discard features who do not have more than 20% variance. \n",
    "X_new = selector.fit_transform(X)\n",
    "\n",
    "print(f'Number of features after low variance filtering in the dataset {X_new.shape[1]}.')\n",
    "\n",
    "# get_support() function gives which indices are selected. \n",
    "print(f'These features were dropped by the selector: {X.columns[~selector.get_support()]}.')"
   ]
  },
  {
   "cell_type": "code",
   "execution_count": 88,
   "metadata": {
    "ExecuteTime": {
     "end_time": "2020-06-30T02:02:54.745909Z",
     "start_time": "2020-06-30T02:02:51.616208Z"
    }
   },
   "outputs": [
    {
     "name": "stdout",
     "output_type": "stream",
     "text": [
      "Model performance with reduced number of features: 0.8644999999999999.\n"
     ]
    }
   ],
   "source": [
    "print(f'Model performance with reduced number of features: {model_performance(X_new, y)}.')"
   ]
  },
  {
   "cell_type": "markdown",
   "metadata": {},
   "source": [
    "### Univariate Selection\n",
    "\n",
    "Here, we select certain number of features based on their relationship to the output variable. Statistical tests can be used to select the important features those having strong relation with the target variable. \n",
    "\n",
    "The scikit-learn library provides the **SelectKBest** class that can be used with a suite of different statistical tests to select a specific number of features.\n",
    "\n",
    "The example below uses the chi-squared statistical test for non-negative features to select k of the best features from the dataset. \n",
    "\n",
    "These objects take as input a scoring function that returns univariate scores and p-values (or only scores for SelectKBest and SelectPercentile):\n",
    "\n",
    "* For regression: f_regression, mutual_info_regression\n",
    "* For classification: chi2, f_classif, mutual_info_classif\n",
    "\n"
   ]
  },
  {
   "cell_type": "code",
   "execution_count": 89,
   "metadata": {
    "ExecuteTime": {
     "end_time": "2020-06-30T02:02:57.307996Z",
     "start_time": "2020-06-30T02:02:57.304018Z"
    }
   },
   "outputs": [],
   "source": [
    "from sklearn.feature_selection import SelectKBest\n",
    "from sklearn.feature_selection import chi2"
   ]
  },
  {
   "cell_type": "code",
   "execution_count": 90,
   "metadata": {
    "ExecuteTime": {
     "end_time": "2020-06-30T02:02:58.534400Z",
     "start_time": "2020-06-30T02:02:58.514343Z"
    }
   },
   "outputs": [
    {
     "data": {
      "text/html": [
       "<div>\n",
       "<style scoped>\n",
       "    .dataframe tbody tr th:only-of-type {\n",
       "        vertical-align: middle;\n",
       "    }\n",
       "\n",
       "    .dataframe tbody tr th {\n",
       "        vertical-align: top;\n",
       "    }\n",
       "\n",
       "    .dataframe thead th {\n",
       "        text-align: right;\n",
       "    }\n",
       "</style>\n",
       "<table border=\"1\" class=\"dataframe\">\n",
       "  <thead>\n",
       "    <tr style=\"text-align: right;\">\n",
       "      <th></th>\n",
       "      <th>Feature</th>\n",
       "      <th>Chi_2 Scores</th>\n",
       "    </tr>\n",
       "  </thead>\n",
       "  <tbody>\n",
       "    <tr>\n",
       "      <th>0</th>\n",
       "      <td>ram</td>\n",
       "      <td>931267.519053</td>\n",
       "    </tr>\n",
       "    <tr>\n",
       "      <th>1</th>\n",
       "      <td>px_height</td>\n",
       "      <td>17363.569536</td>\n",
       "    </tr>\n",
       "    <tr>\n",
       "      <th>2</th>\n",
       "      <td>battery_power</td>\n",
       "      <td>14129.866576</td>\n",
       "    </tr>\n",
       "    <tr>\n",
       "      <th>3</th>\n",
       "      <td>px_width</td>\n",
       "      <td>9810.586750</td>\n",
       "    </tr>\n",
       "    <tr>\n",
       "      <th>4</th>\n",
       "      <td>mobile_wt</td>\n",
       "      <td>95.972863</td>\n",
       "    </tr>\n",
       "    <tr>\n",
       "      <th>5</th>\n",
       "      <td>int_memory</td>\n",
       "      <td>89.839124</td>\n",
       "    </tr>\n",
       "    <tr>\n",
       "      <th>6</th>\n",
       "      <td>sc_w</td>\n",
       "      <td>16.480319</td>\n",
       "    </tr>\n",
       "    <tr>\n",
       "      <th>7</th>\n",
       "      <td>talk_time</td>\n",
       "      <td>13.236400</td>\n",
       "    </tr>\n",
       "    <tr>\n",
       "      <th>8</th>\n",
       "      <td>fc</td>\n",
       "      <td>10.135166</td>\n",
       "    </tr>\n",
       "    <tr>\n",
       "      <th>9</th>\n",
       "      <td>sc_h</td>\n",
       "      <td>9.614878</td>\n",
       "    </tr>\n",
       "    <tr>\n",
       "      <th>10</th>\n",
       "      <td>pc</td>\n",
       "      <td>9.186054</td>\n",
       "    </tr>\n",
       "    <tr>\n",
       "      <th>11</th>\n",
       "      <td>n_cores</td>\n",
       "      <td>9.097556</td>\n",
       "    </tr>\n",
       "    <tr>\n",
       "      <th>12</th>\n",
       "      <td>touch_screen</td>\n",
       "      <td>1.928429</td>\n",
       "    </tr>\n",
       "    <tr>\n",
       "      <th>13</th>\n",
       "      <td>four_g</td>\n",
       "      <td>1.521572</td>\n",
       "    </tr>\n",
       "    <tr>\n",
       "      <th>14</th>\n",
       "      <td>m_dep</td>\n",
       "      <td>0.745820</td>\n",
       "    </tr>\n",
       "    <tr>\n",
       "      <th>15</th>\n",
       "      <td>blue</td>\n",
       "      <td>0.723232</td>\n",
       "    </tr>\n",
       "    <tr>\n",
       "      <th>16</th>\n",
       "      <td>clock_speed</td>\n",
       "      <td>0.648366</td>\n",
       "    </tr>\n",
       "    <tr>\n",
       "      <th>17</th>\n",
       "      <td>dual_sim</td>\n",
       "      <td>0.631011</td>\n",
       "    </tr>\n",
       "    <tr>\n",
       "      <th>18</th>\n",
       "      <td>wifi</td>\n",
       "      <td>0.422091</td>\n",
       "    </tr>\n",
       "    <tr>\n",
       "      <th>19</th>\n",
       "      <td>three_g</td>\n",
       "      <td>0.327643</td>\n",
       "    </tr>\n",
       "  </tbody>\n",
       "</table>\n",
       "</div>"
      ],
      "text/plain": [
       "          Feature   Chi_2 Scores\n",
       "0             ram  931267.519053\n",
       "1       px_height   17363.569536\n",
       "2   battery_power   14129.866576\n",
       "3        px_width    9810.586750\n",
       "4       mobile_wt      95.972863\n",
       "5      int_memory      89.839124\n",
       "6            sc_w      16.480319\n",
       "7       talk_time      13.236400\n",
       "8              fc      10.135166\n",
       "9            sc_h       9.614878\n",
       "10             pc       9.186054\n",
       "11        n_cores       9.097556\n",
       "12   touch_screen       1.928429\n",
       "13         four_g       1.521572\n",
       "14          m_dep       0.745820\n",
       "15           blue       0.723232\n",
       "16    clock_speed       0.648366\n",
       "17       dual_sim       0.631011\n",
       "18           wifi       0.422091\n",
       "19        three_g       0.327643"
      ]
     },
     "execution_count": 90,
     "metadata": {},
     "output_type": "execute_result"
    }
   ],
   "source": [
    "# SelectKBest in sklearn to select 10 statistically important features (based on chi-squared test).\n",
    "selector = SelectKBest(score_func=chi2, k=10)\n",
    "\n",
    "# fit the dataset to the selector\n",
    "X_new = selector.fit_transform(X,y)\n",
    "\n",
    "# statistical test scores for features\n",
    "scores = selector.scores_\n",
    "\n",
    "# Let's create a dataframe for the results\n",
    "\n",
    "df_scores = pd.DataFrame(data={'Feature': X.columns, 'Chi_2 Scores': scores})\n",
    "df_scores.sort_values(by = 'Chi_2 Scores', ascending = False).reset_index(drop = True)\n",
    "\n",
    "# As can be seen from below dataframe, there are certain features with very high statistical score. Those high valued\n",
    "# features are selected by the algorithm.\n",
    "\n",
    "# X_new contains the extracted dataset. "
   ]
  },
  {
   "cell_type": "code",
   "execution_count": 91,
   "metadata": {
    "ExecuteTime": {
     "end_time": "2020-06-30T02:03:04.362755Z",
     "start_time": "2020-06-30T02:03:01.272601Z"
    }
   },
   "outputs": [
    {
     "name": "stdout",
     "output_type": "stream",
     "text": [
      "Model performance with reduced number of features: 0.916.\n"
     ]
    }
   ],
   "source": [
    "print(f'Model performance with reduced number of features: {model_performance(X_new, y)}.')"
   ]
  },
  {
   "cell_type": "markdown",
   "metadata": {},
   "source": [
    "As can be seen, with the reduced number of features, model complexity reduces significantly and improves the performance as well.\n",
    "\n",
    "- With full set of features (20 features): 0.851\n",
    "- With removing low variances (18 features): 0.865\n",
    "- With univariate selection (10 features): 0.916"
   ]
  },
  {
   "cell_type": "markdown",
   "metadata": {},
   "source": [
    "### Recursive Feature Elimination\n",
    "\n",
    "In this method (sklearn: RFE), the external estimator is trained on the initial set of features and the importance of each feature is obtained through attributes such as, __coef___ or __feature_importances___. Then, the least important features are eliminated from the current set of features. "
   ]
  },
  {
   "cell_type": "code",
   "execution_count": 137,
   "metadata": {
    "ExecuteTime": {
     "end_time": "2020-06-30T05:28:54.562349Z",
     "start_time": "2020-06-30T05:28:51.031705Z"
    }
   },
   "outputs": [
    {
     "data": {
      "text/html": [
       "<div>\n",
       "<style scoped>\n",
       "    .dataframe tbody tr th:only-of-type {\n",
       "        vertical-align: middle;\n",
       "    }\n",
       "\n",
       "    .dataframe tbody tr th {\n",
       "        vertical-align: top;\n",
       "    }\n",
       "\n",
       "    .dataframe thead th {\n",
       "        text-align: right;\n",
       "    }\n",
       "</style>\n",
       "<table border=\"1\" class=\"dataframe\">\n",
       "  <thead>\n",
       "    <tr style=\"text-align: right;\">\n",
       "      <th></th>\n",
       "      <th>Feature</th>\n",
       "      <th>Rank</th>\n",
       "    </tr>\n",
       "  </thead>\n",
       "  <tbody>\n",
       "    <tr>\n",
       "      <th>0</th>\n",
       "      <td>battery_power</td>\n",
       "      <td>1</td>\n",
       "    </tr>\n",
       "    <tr>\n",
       "      <th>1</th>\n",
       "      <td>talk_time</td>\n",
       "      <td>1</td>\n",
       "    </tr>\n",
       "    <tr>\n",
       "      <th>2</th>\n",
       "      <td>sc_w</td>\n",
       "      <td>1</td>\n",
       "    </tr>\n",
       "    <tr>\n",
       "      <th>3</th>\n",
       "      <td>sc_h</td>\n",
       "      <td>1</td>\n",
       "    </tr>\n",
       "    <tr>\n",
       "      <th>4</th>\n",
       "      <td>ram</td>\n",
       "      <td>1</td>\n",
       "    </tr>\n",
       "    <tr>\n",
       "      <th>5</th>\n",
       "      <td>int_memory</td>\n",
       "      <td>1</td>\n",
       "    </tr>\n",
       "    <tr>\n",
       "      <th>6</th>\n",
       "      <td>mobile_wt</td>\n",
       "      <td>1</td>\n",
       "    </tr>\n",
       "    <tr>\n",
       "      <th>7</th>\n",
       "      <td>px_width</td>\n",
       "      <td>1</td>\n",
       "    </tr>\n",
       "    <tr>\n",
       "      <th>8</th>\n",
       "      <td>pc</td>\n",
       "      <td>1</td>\n",
       "    </tr>\n",
       "    <tr>\n",
       "      <th>9</th>\n",
       "      <td>px_height</td>\n",
       "      <td>1</td>\n",
       "    </tr>\n",
       "    <tr>\n",
       "      <th>10</th>\n",
       "      <td>clock_speed</td>\n",
       "      <td>2</td>\n",
       "    </tr>\n",
       "    <tr>\n",
       "      <th>11</th>\n",
       "      <td>m_dep</td>\n",
       "      <td>3</td>\n",
       "    </tr>\n",
       "    <tr>\n",
       "      <th>12</th>\n",
       "      <td>n_cores</td>\n",
       "      <td>4</td>\n",
       "    </tr>\n",
       "    <tr>\n",
       "      <th>13</th>\n",
       "      <td>fc</td>\n",
       "      <td>5</td>\n",
       "    </tr>\n",
       "    <tr>\n",
       "      <th>14</th>\n",
       "      <td>wifi</td>\n",
       "      <td>6</td>\n",
       "    </tr>\n",
       "    <tr>\n",
       "      <th>15</th>\n",
       "      <td>dual_sim</td>\n",
       "      <td>7</td>\n",
       "    </tr>\n",
       "    <tr>\n",
       "      <th>16</th>\n",
       "      <td>blue</td>\n",
       "      <td>8</td>\n",
       "    </tr>\n",
       "    <tr>\n",
       "      <th>17</th>\n",
       "      <td>four_g</td>\n",
       "      <td>9</td>\n",
       "    </tr>\n",
       "    <tr>\n",
       "      <th>18</th>\n",
       "      <td>touch_screen</td>\n",
       "      <td>10</td>\n",
       "    </tr>\n",
       "    <tr>\n",
       "      <th>19</th>\n",
       "      <td>three_g</td>\n",
       "      <td>11</td>\n",
       "    </tr>\n",
       "  </tbody>\n",
       "</table>\n",
       "</div>"
      ],
      "text/plain": [
       "          Feature  Rank\n",
       "0   battery_power     1\n",
       "1       talk_time     1\n",
       "2            sc_w     1\n",
       "3            sc_h     1\n",
       "4             ram     1\n",
       "5      int_memory     1\n",
       "6       mobile_wt     1\n",
       "7        px_width     1\n",
       "8              pc     1\n",
       "9       px_height     1\n",
       "10    clock_speed     2\n",
       "11          m_dep     3\n",
       "12        n_cores     4\n",
       "13             fc     5\n",
       "14           wifi     6\n",
       "15       dual_sim     7\n",
       "16           blue     8\n",
       "17         four_g     9\n",
       "18   touch_screen    10\n",
       "19        three_g    11"
      ]
     },
     "execution_count": 137,
     "metadata": {},
     "output_type": "execute_result"
    }
   ],
   "source": [
    "from sklearn.feature_selection import RFE\n",
    "\n",
    "classifier = ExtraTreesClassifier()\n",
    "\n",
    "selector = RFE(estimator=classifier, n_features_to_select=10, step = 1)\n",
    "\n",
    "X_new = selector.fit_transform(X, y)\n",
    "\n",
    "feature_rank = selector.ranking_\n",
    "\n",
    "# Let's create a dataframe for the ranking.\n",
    "\n",
    "df_ranks = pd.DataFrame(data={'Feature': X.columns, 'Rank': feature_rank})\n",
    "df_ranks.sort_values(by = 'Rank', ascending = True).reset_index(drop = True)\n",
    "\n",
    "# As can be seen from below dataframe, there are certain features with rank = 1. Those 10 features are important and also \n",
    "# matches with the results that we got from univariate feature selection method (with chi-squared scoring).\n",
    "\n",
    "# X_new contains the extracted dataset. "
   ]
  },
  {
   "cell_type": "code",
   "execution_count": 102,
   "metadata": {
    "ExecuteTime": {
     "end_time": "2020-06-30T04:21:51.394154Z",
     "start_time": "2020-06-30T04:21:48.743961Z"
    }
   },
   "outputs": [
    {
     "name": "stdout",
     "output_type": "stream",
     "text": [
      "Model performance with reduced number of features: 0.913.\n"
     ]
    }
   ],
   "source": [
    "print(f'Model performance with reduced number of features: {model_performance(X_new, y)}.')"
   ]
  },
  {
   "cell_type": "markdown",
   "metadata": {
    "ExecuteTime": {
     "end_time": "2020-06-30T04:14:01.826460Z",
     "start_time": "2020-06-30T04:14:01.761284Z"
    }
   },
   "source": [
    "#### Recursive Feature Elimination with Cross-validation\n",
    "\n",
    "A recursive feature elimination example with automatic tuning of the number of features selected with cross-validation."
   ]
  },
  {
   "cell_type": "code",
   "execution_count": 182,
   "metadata": {
    "ExecuteTime": {
     "end_time": "2020-06-30T06:41:24.670097Z",
     "start_time": "2020-06-30T06:40:53.810091Z"
    }
   },
   "outputs": [
    {
     "name": "stdout",
     "output_type": "stream",
     "text": [
      "Optimal number of features: 5\n"
     ]
    }
   ],
   "source": [
    "from sklearn.feature_selection import RFECV\n",
    "from sklearn.model_selection import StratifiedKFold\n",
    "\n",
    "classifier = ExtraTreesClassifier()\n",
    "\n",
    "selector = RFECV(estimator=classifier, step = 1, cv = StratifiedKFold(5), scoring = 'accuracy')\n",
    "\n",
    "X_new = selector.fit_transform(X, y)\n",
    "\n",
    "print(f'Optimal number of features: {selector.n_features_}')"
   ]
  },
  {
   "cell_type": "code",
   "execution_count": 183,
   "metadata": {
    "ExecuteTime": {
     "end_time": "2020-06-30T06:41:29.712788Z",
     "start_time": "2020-06-30T06:41:27.442132Z"
    }
   },
   "outputs": [
    {
     "name": "stdout",
     "output_type": "stream",
     "text": [
      "Model performance with RFE_CV feature selection: 0.9324999999999999.\n"
     ]
    }
   ],
   "source": [
    "print(f'Model performance with RFE_CV feature selection: {model_performance(X_new, y)}.')"
   ]
  },
  {
   "cell_type": "code",
   "execution_count": 184,
   "metadata": {
    "ExecuteTime": {
     "end_time": "2020-06-30T06:41:40.109959Z",
     "start_time": "2020-06-30T06:41:40.098930Z"
    }
   },
   "outputs": [
    {
     "data": {
      "text/html": [
       "<div>\n",
       "<style scoped>\n",
       "    .dataframe tbody tr th:only-of-type {\n",
       "        vertical-align: middle;\n",
       "    }\n",
       "\n",
       "    .dataframe tbody tr th {\n",
       "        vertical-align: top;\n",
       "    }\n",
       "\n",
       "    .dataframe thead th {\n",
       "        text-align: right;\n",
       "    }\n",
       "</style>\n",
       "<table border=\"1\" class=\"dataframe\">\n",
       "  <thead>\n",
       "    <tr style=\"text-align: right;\">\n",
       "      <th></th>\n",
       "      <th>Feature</th>\n",
       "      <th>Rank</th>\n",
       "    </tr>\n",
       "  </thead>\n",
       "  <tbody>\n",
       "    <tr>\n",
       "      <th>0</th>\n",
       "      <td>battery_power</td>\n",
       "      <td>1</td>\n",
       "    </tr>\n",
       "    <tr>\n",
       "      <th>1</th>\n",
       "      <td>ram</td>\n",
       "      <td>1</td>\n",
       "    </tr>\n",
       "    <tr>\n",
       "      <th>2</th>\n",
       "      <td>px_width</td>\n",
       "      <td>1</td>\n",
       "    </tr>\n",
       "    <tr>\n",
       "      <th>3</th>\n",
       "      <td>mobile_wt</td>\n",
       "      <td>1</td>\n",
       "    </tr>\n",
       "    <tr>\n",
       "      <th>4</th>\n",
       "      <td>px_height</td>\n",
       "      <td>1</td>\n",
       "    </tr>\n",
       "    <tr>\n",
       "      <th>5</th>\n",
       "      <td>int_memory</td>\n",
       "      <td>2</td>\n",
       "    </tr>\n",
       "    <tr>\n",
       "      <th>6</th>\n",
       "      <td>talk_time</td>\n",
       "      <td>3</td>\n",
       "    </tr>\n",
       "    <tr>\n",
       "      <th>7</th>\n",
       "      <td>sc_w</td>\n",
       "      <td>4</td>\n",
       "    </tr>\n",
       "    <tr>\n",
       "      <th>8</th>\n",
       "      <td>pc</td>\n",
       "      <td>5</td>\n",
       "    </tr>\n",
       "    <tr>\n",
       "      <th>9</th>\n",
       "      <td>m_dep</td>\n",
       "      <td>6</td>\n",
       "    </tr>\n",
       "    <tr>\n",
       "      <th>10</th>\n",
       "      <td>clock_speed</td>\n",
       "      <td>7</td>\n",
       "    </tr>\n",
       "    <tr>\n",
       "      <th>11</th>\n",
       "      <td>n_cores</td>\n",
       "      <td>8</td>\n",
       "    </tr>\n",
       "    <tr>\n",
       "      <th>12</th>\n",
       "      <td>sc_h</td>\n",
       "      <td>9</td>\n",
       "    </tr>\n",
       "    <tr>\n",
       "      <th>13</th>\n",
       "      <td>fc</td>\n",
       "      <td>10</td>\n",
       "    </tr>\n",
       "    <tr>\n",
       "      <th>14</th>\n",
       "      <td>wifi</td>\n",
       "      <td>11</td>\n",
       "    </tr>\n",
       "    <tr>\n",
       "      <th>15</th>\n",
       "      <td>blue</td>\n",
       "      <td>12</td>\n",
       "    </tr>\n",
       "    <tr>\n",
       "      <th>16</th>\n",
       "      <td>four_g</td>\n",
       "      <td>13</td>\n",
       "    </tr>\n",
       "    <tr>\n",
       "      <th>17</th>\n",
       "      <td>dual_sim</td>\n",
       "      <td>14</td>\n",
       "    </tr>\n",
       "    <tr>\n",
       "      <th>18</th>\n",
       "      <td>touch_screen</td>\n",
       "      <td>15</td>\n",
       "    </tr>\n",
       "    <tr>\n",
       "      <th>19</th>\n",
       "      <td>three_g</td>\n",
       "      <td>16</td>\n",
       "    </tr>\n",
       "  </tbody>\n",
       "</table>\n",
       "</div>"
      ],
      "text/plain": [
       "          Feature  Rank\n",
       "0   battery_power     1\n",
       "1             ram     1\n",
       "2        px_width     1\n",
       "3       mobile_wt     1\n",
       "4       px_height     1\n",
       "5      int_memory     2\n",
       "6       talk_time     3\n",
       "7            sc_w     4\n",
       "8              pc     5\n",
       "9           m_dep     6\n",
       "10    clock_speed     7\n",
       "11        n_cores     8\n",
       "12           sc_h     9\n",
       "13             fc    10\n",
       "14           wifi    11\n",
       "15           blue    12\n",
       "16         four_g    13\n",
       "17       dual_sim    14\n",
       "18   touch_screen    15\n",
       "19        three_g    16"
      ]
     },
     "execution_count": 184,
     "metadata": {},
     "output_type": "execute_result"
    }
   ],
   "source": [
    "# Let's see what features have been selected by the algorithm.\n",
    "feature_rank = selector.ranking_\n",
    "\n",
    "# Let's create a dataframe for the ranking.\n",
    "\n",
    "df_ranks = pd.DataFrame(data={'Feature': X.columns, 'Rank': feature_rank})\n",
    "df_ranks.sort_values(by = 'Rank', ascending = True).reset_index(drop = True)\n"
   ]
  },
  {
   "cell_type": "markdown",
   "metadata": {},
   "source": [
    "As can be seen from above, Recursive Feature Elimination with cross validation has tuned features and picked 5 best features for better accuracy score. \n",
    "\n",
    "Running the algorithm with this reduced set of features has produced 93.65% accuracy. "
   ]
  },
  {
   "cell_type": "markdown",
   "metadata": {},
   "source": [
    "### Feature Selection using SelectFromModel\n",
    "\n",
    "__SelectFromModel__ is a meta-transformer that can be used with any estimator that has __coef___ or __feature_importance___ attributes after fitting. Feature is eliminated if its respective coef_ or feature_importance_ values are below a certain threshold specified. \n",
    "\n",
    "Instead of an absolute threshold, it is also possible to provide string argument for using built-in heuristics for finding a threshold, such as mean, median, etc. It is also possible to specify _max_feature_ argument to limit the number of features to select. "
   ]
  },
  {
   "cell_type": "markdown",
   "metadata": {},
   "source": [
    "#### L1-based feature selection\n",
    "\n",
    "Liner models with penalized with L1-norm of the coefficients for regularization generally provide a sparse solution, where most of the coefficients, which are not important will be zero. \n",
    "\n",
    "For the purpose of reducing the dimensionality of the dataset (selecting features), we can use such linear model for coefficient calculation and then use _SelectFromModel_ for selecting the non-zero coefficients. \n",
    "\n",
    "Sparse estimators useful for this purpose are the   \n",
    "- linear_model.Lasso for regression\n",
    "- linear_model.LogisticRegression and svm.LinearSVC for classification"
   ]
  },
  {
   "cell_type": "code",
   "execution_count": 115,
   "metadata": {
    "ExecuteTime": {
     "end_time": "2020-06-30T05:04:05.132314Z",
     "start_time": "2020-06-30T05:04:02.277864Z"
    }
   },
   "outputs": [
    {
     "data": {
      "text/plain": [
       "0.7375"
      ]
     },
     "execution_count": 115,
     "metadata": {},
     "output_type": "execute_result"
    }
   ],
   "source": [
    "from sklearn.svm import LinearSVC\n",
    "from sklearn.feature_selection import SelectFromModel\n",
    "\n",
    "# With SVMs and logistic-regression, the parameter C controls the sparsity: the smaller C the fewer features selected. \n",
    "# With Lasso, the higher the alpha parameter, the fewer features selected.\n",
    "classifier = LinearSVC(C=0.01, penalty='l1', dual=False).fit(X, y)\n",
    "\n",
    "selector = SelectFromModel(classifier, prefit=True, max_features=10)\n",
    "\n",
    "X_new = selector.transform(X)\n",
    "\n",
    "model_performance(X_new, y)"
   ]
  },
  {
   "cell_type": "markdown",
   "metadata": {},
   "source": [
    "Obviously model performance is not that better with this approach. Below are the features that the model has selected.  "
   ]
  },
  {
   "cell_type": "code",
   "execution_count": 123,
   "metadata": {
    "ExecuteTime": {
     "end_time": "2020-06-30T05:10:43.454391Z",
     "start_time": "2020-06-30T05:10:43.448379Z"
    }
   },
   "outputs": [
    {
     "data": {
      "text/plain": [
       "Index(['clock_speed', 'fc', 'int_memory', 'mobile_wt', 'n_cores', 'pc', 'ram',\n",
       "       'sc_h', 'sc_w', 'talk_time'],\n",
       "      dtype='object')"
      ]
     },
     "execution_count": 123,
     "metadata": {},
     "output_type": "execute_result"
    }
   ],
   "source": [
    "X.columns[selector.get_support(indices=False)]"
   ]
  },
  {
   "cell_type": "markdown",
   "metadata": {},
   "source": [
    "#### Tree-based Feature Selection\n",
    "\n",
    "Tree-based estimators can be used to compute impurity-based feature importances. This attribute is used in the SelectFromModel meta-transformer to select the features."
   ]
  },
  {
   "cell_type": "code",
   "execution_count": 129,
   "metadata": {
    "ExecuteTime": {
     "end_time": "2020-06-30T05:18:22.065354Z",
     "start_time": "2020-06-30T05:18:21.710829Z"
    }
   },
   "outputs": [
    {
     "data": {
      "text/html": [
       "<div>\n",
       "<style scoped>\n",
       "    .dataframe tbody tr th:only-of-type {\n",
       "        vertical-align: middle;\n",
       "    }\n",
       "\n",
       "    .dataframe tbody tr th {\n",
       "        vertical-align: top;\n",
       "    }\n",
       "\n",
       "    .dataframe thead th {\n",
       "        text-align: right;\n",
       "    }\n",
       "</style>\n",
       "<table border=\"1\" class=\"dataframe\">\n",
       "  <thead>\n",
       "    <tr style=\"text-align: right;\">\n",
       "      <th></th>\n",
       "      <th>Feature</th>\n",
       "      <th>Importance</th>\n",
       "    </tr>\n",
       "  </thead>\n",
       "  <tbody>\n",
       "    <tr>\n",
       "      <th>0</th>\n",
       "      <td>ram</td>\n",
       "      <td>0.395361</td>\n",
       "    </tr>\n",
       "    <tr>\n",
       "      <th>1</th>\n",
       "      <td>battery_power</td>\n",
       "      <td>0.063954</td>\n",
       "    </tr>\n",
       "    <tr>\n",
       "      <th>2</th>\n",
       "      <td>px_width</td>\n",
       "      <td>0.048850</td>\n",
       "    </tr>\n",
       "    <tr>\n",
       "      <th>3</th>\n",
       "      <td>px_height</td>\n",
       "      <td>0.047096</td>\n",
       "    </tr>\n",
       "    <tr>\n",
       "      <th>4</th>\n",
       "      <td>mobile_wt</td>\n",
       "      <td>0.036430</td>\n",
       "    </tr>\n",
       "    <tr>\n",
       "      <th>5</th>\n",
       "      <td>talk_time</td>\n",
       "      <td>0.035162</td>\n",
       "    </tr>\n",
       "    <tr>\n",
       "      <th>6</th>\n",
       "      <td>int_memory</td>\n",
       "      <td>0.034126</td>\n",
       "    </tr>\n",
       "    <tr>\n",
       "      <th>7</th>\n",
       "      <td>sc_h</td>\n",
       "      <td>0.033661</td>\n",
       "    </tr>\n",
       "    <tr>\n",
       "      <th>8</th>\n",
       "      <td>clock_speed</td>\n",
       "      <td>0.033563</td>\n",
       "    </tr>\n",
       "    <tr>\n",
       "      <th>9</th>\n",
       "      <td>pc</td>\n",
       "      <td>0.033410</td>\n",
       "    </tr>\n",
       "    <tr>\n",
       "      <th>10</th>\n",
       "      <td>n_cores</td>\n",
       "      <td>0.033348</td>\n",
       "    </tr>\n",
       "    <tr>\n",
       "      <th>11</th>\n",
       "      <td>sc_w</td>\n",
       "      <td>0.033219</td>\n",
       "    </tr>\n",
       "    <tr>\n",
       "      <th>12</th>\n",
       "      <td>m_dep</td>\n",
       "      <td>0.032886</td>\n",
       "    </tr>\n",
       "    <tr>\n",
       "      <th>13</th>\n",
       "      <td>fc</td>\n",
       "      <td>0.031486</td>\n",
       "    </tr>\n",
       "    <tr>\n",
       "      <th>14</th>\n",
       "      <td>wifi</td>\n",
       "      <td>0.019681</td>\n",
       "    </tr>\n",
       "    <tr>\n",
       "      <th>15</th>\n",
       "      <td>blue</td>\n",
       "      <td>0.019489</td>\n",
       "    </tr>\n",
       "    <tr>\n",
       "      <th>16</th>\n",
       "      <td>dual_sim</td>\n",
       "      <td>0.019458</td>\n",
       "    </tr>\n",
       "    <tr>\n",
       "      <th>17</th>\n",
       "      <td>touch_screen</td>\n",
       "      <td>0.017290</td>\n",
       "    </tr>\n",
       "    <tr>\n",
       "      <th>18</th>\n",
       "      <td>four_g</td>\n",
       "      <td>0.017105</td>\n",
       "    </tr>\n",
       "    <tr>\n",
       "      <th>19</th>\n",
       "      <td>three_g</td>\n",
       "      <td>0.014423</td>\n",
       "    </tr>\n",
       "  </tbody>\n",
       "</table>\n",
       "</div>"
      ],
      "text/plain": [
       "          Feature  Importance\n",
       "0             ram    0.395361\n",
       "1   battery_power    0.063954\n",
       "2        px_width    0.048850\n",
       "3       px_height    0.047096\n",
       "4       mobile_wt    0.036430\n",
       "5       talk_time    0.035162\n",
       "6      int_memory    0.034126\n",
       "7            sc_h    0.033661\n",
       "8     clock_speed    0.033563\n",
       "9              pc    0.033410\n",
       "10        n_cores    0.033348\n",
       "11           sc_w    0.033219\n",
       "12          m_dep    0.032886\n",
       "13             fc    0.031486\n",
       "14           wifi    0.019681\n",
       "15           blue    0.019489\n",
       "16       dual_sim    0.019458\n",
       "17   touch_screen    0.017290\n",
       "18         four_g    0.017105\n",
       "19        three_g    0.014423"
      ]
     },
     "execution_count": 129,
     "metadata": {},
     "output_type": "execute_result"
    }
   ],
   "source": [
    "from sklearn.ensemble import ExtraTreesClassifier\n",
    "from sklearn.feature_selection import SelectFromModel\n",
    "\n",
    "classifier = ExtraTreesClassifier()\n",
    "\n",
    "classifier.fit(X, y)\n",
    "\n",
    "# Let's see the importance metric for each feature\n",
    "feature_importances = classifier.feature_importances_\n",
    "\n",
    "# Let's create a dataframe for the ranking.\n",
    "\n",
    "df_ranks = pd.DataFrame(data={'Feature': X.columns, 'Importance': feature_importances})\n",
    "df_ranks.sort_values(by = 'Importance', ascending = False).reset_index(drop = True)"
   ]
  },
  {
   "cell_type": "code",
   "execution_count": 135,
   "metadata": {
    "ExecuteTime": {
     "end_time": "2020-06-30T05:26:37.817541Z",
     "start_time": "2020-06-30T05:26:37.782448Z"
    }
   },
   "outputs": [
    {
     "data": {
      "text/plain": [
       "Index(['battery_power', 'clock_speed', 'int_memory', 'mobile_wt', 'pc',\n",
       "       'px_height', 'px_width', 'ram', 'sc_h', 'talk_time'],\n",
       "      dtype='object')"
      ]
     },
     "execution_count": 135,
     "metadata": {},
     "output_type": "execute_result"
    }
   ],
   "source": [
    "# Let's now feed this to the meta-transformer. \n",
    "selector = SelectFromModel(estimator=classifier, threshold='median', max_features=10, prefit = True)\n",
    "\n",
    "X_new = selector.transform(X)\n",
    "\n",
    "# Following are the features that the meta-transformer has selected. \n",
    "X.columns[selector.get_support()]"
   ]
  },
  {
   "cell_type": "code",
   "execution_count": 136,
   "metadata": {
    "ExecuteTime": {
     "end_time": "2020-06-30T05:27:26.362386Z",
     "start_time": "2020-06-30T05:27:23.710262Z"
    }
   },
   "outputs": [
    {
     "data": {
      "text/plain": [
       "0.9099999999999999"
      ]
     },
     "execution_count": 136,
     "metadata": {},
     "output_type": "execute_result"
    }
   ],
   "source": [
    "model_performance(X_new, y)"
   ]
  },
  {
   "cell_type": "markdown",
   "metadata": {},
   "source": [
    "### Correlation with Target Variable\n",
    "\n",
    "Correlation shows the degree of relationship between given two variables. It can be either positive or negative, ranges from -1 to +1, where 0 stands for no correlation between the two variables. "
   ]
  },
  {
   "cell_type": "code",
   "execution_count": 168,
   "metadata": {
    "ExecuteTime": {
     "end_time": "2020-06-30T06:27:25.714371Z",
     "start_time": "2020-06-30T06:27:25.002846Z"
    }
   },
   "outputs": [
    {
     "data": {
      "image/png": "[encoded data removed]",
      "text/plain": [
       "<Figure size 720x576 with 2 Axes>"
      ]
     },
     "metadata": {
      "needs_background": "light"
     },
     "output_type": "display_data"
    }
   ],
   "source": [
    "import seaborn as sns\n",
    "\n",
    "correlation_matrix = data.corr().abs()\n",
    "\n",
    "# We can plot the correlation on a heat map.\n",
    "\n",
    "plt.figure(figsize=[10, 8])\n",
    "\n",
    "# Generate a mask for the upper triangle\n",
    "mask = np.triu(np.ones_like(correlation_matrix, dtype=np.bool))\n",
    "\n",
    "sns.heatmap(correlation_matrix,cmap=\"Blues\", mask = mask, vmax=0.75)\n",
    "plt.show()"
   ]
  },
  {
   "cell_type": "code",
   "execution_count": 166,
   "metadata": {
    "ExecuteTime": {
     "end_time": "2020-06-30T06:26:47.272226Z",
     "start_time": "2020-06-30T06:26:47.246075Z"
    }
   },
   "outputs": [
    {
     "data": {
      "text/html": [
       "<div>\n",
       "<style scoped>\n",
       "    .dataframe tbody tr th:only-of-type {\n",
       "        vertical-align: middle;\n",
       "    }\n",
       "\n",
       "    .dataframe tbody tr th {\n",
       "        vertical-align: top;\n",
       "    }\n",
       "\n",
       "    .dataframe thead th {\n",
       "        text-align: right;\n",
       "    }\n",
       "</style>\n",
       "<table border=\"1\" class=\"dataframe\">\n",
       "  <thead>\n",
       "    <tr style=\"text-align: right;\">\n",
       "      <th></th>\n",
       "      <th>Features</th>\n",
       "      <th>Correleation Coeff</th>\n",
       "      <th>P-value</th>\n",
       "    </tr>\n",
       "  </thead>\n",
       "  <tbody>\n",
       "    <tr>\n",
       "      <th>0</th>\n",
       "      <td>ram</td>\n",
       "      <td>0.92</td>\n",
       "      <td>0.00000</td>\n",
       "    </tr>\n",
       "    <tr>\n",
       "      <th>1</th>\n",
       "      <td>battery_power</td>\n",
       "      <td>0.20</td>\n",
       "      <td>0.00000</td>\n",
       "    </tr>\n",
       "    <tr>\n",
       "      <th>2</th>\n",
       "      <td>px_width</td>\n",
       "      <td>0.17</td>\n",
       "      <td>0.00000</td>\n",
       "    </tr>\n",
       "    <tr>\n",
       "      <th>3</th>\n",
       "      <td>px_height</td>\n",
       "      <td>0.15</td>\n",
       "      <td>0.00000</td>\n",
       "    </tr>\n",
       "    <tr>\n",
       "      <th>4</th>\n",
       "      <td>int_memory</td>\n",
       "      <td>0.04</td>\n",
       "      <td>0.04693</td>\n",
       "    </tr>\n",
       "    <tr>\n",
       "      <th>5</th>\n",
       "      <td>sc_w</td>\n",
       "      <td>0.04</td>\n",
       "      <td>0.08349</td>\n",
       "    </tr>\n",
       "    <tr>\n",
       "      <th>6</th>\n",
       "      <td>pc</td>\n",
       "      <td>0.03</td>\n",
       "      <td>0.13307</td>\n",
       "    </tr>\n",
       "    <tr>\n",
       "      <th>7</th>\n",
       "      <td>blue</td>\n",
       "      <td>0.02</td>\n",
       "      <td>0.35780</td>\n",
       "    </tr>\n",
       "    <tr>\n",
       "      <th>8</th>\n",
       "      <td>fc</td>\n",
       "      <td>0.02</td>\n",
       "      <td>0.32546</td>\n",
       "    </tr>\n",
       "    <tr>\n",
       "      <th>9</th>\n",
       "      <td>dual_sim</td>\n",
       "      <td>0.02</td>\n",
       "      <td>0.43556</td>\n",
       "    </tr>\n",
       "    <tr>\n",
       "      <th>10</th>\n",
       "      <td>sc_h</td>\n",
       "      <td>0.02</td>\n",
       "      <td>0.30420</td>\n",
       "    </tr>\n",
       "    <tr>\n",
       "      <th>11</th>\n",
       "      <td>talk_time</td>\n",
       "      <td>0.02</td>\n",
       "      <td>0.32854</td>\n",
       "    </tr>\n",
       "    <tr>\n",
       "      <th>12</th>\n",
       "      <td>three_g</td>\n",
       "      <td>0.02</td>\n",
       "      <td>0.29124</td>\n",
       "    </tr>\n",
       "    <tr>\n",
       "      <th>13</th>\n",
       "      <td>wifi</td>\n",
       "      <td>0.02</td>\n",
       "      <td>0.40112</td>\n",
       "    </tr>\n",
       "    <tr>\n",
       "      <th>14</th>\n",
       "      <td>four_g</td>\n",
       "      <td>0.01</td>\n",
       "      <td>0.50910</td>\n",
       "    </tr>\n",
       "    <tr>\n",
       "      <th>15</th>\n",
       "      <td>m_dep</td>\n",
       "      <td>0.00</td>\n",
       "      <td>0.96959</td>\n",
       "    </tr>\n",
       "    <tr>\n",
       "      <th>16</th>\n",
       "      <td>n_cores</td>\n",
       "      <td>0.00</td>\n",
       "      <td>0.84413</td>\n",
       "    </tr>\n",
       "    <tr>\n",
       "      <th>17</th>\n",
       "      <td>clock_speed</td>\n",
       "      <td>-0.01</td>\n",
       "      <td>0.76782</td>\n",
       "    </tr>\n",
       "    <tr>\n",
       "      <th>18</th>\n",
       "      <td>mobile_wt</td>\n",
       "      <td>-0.03</td>\n",
       "      <td>0.17554</td>\n",
       "    </tr>\n",
       "    <tr>\n",
       "      <th>19</th>\n",
       "      <td>touch_screen</td>\n",
       "      <td>-0.03</td>\n",
       "      <td>0.17399</td>\n",
       "    </tr>\n",
       "  </tbody>\n",
       "</table>\n",
       "</div>"
      ],
      "text/plain": [
       "         Features  Correleation Coeff  P-value\n",
       "0             ram                0.92  0.00000\n",
       "1   battery_power                0.20  0.00000\n",
       "2        px_width                0.17  0.00000\n",
       "3       px_height                0.15  0.00000\n",
       "4      int_memory                0.04  0.04693\n",
       "5            sc_w                0.04  0.08349\n",
       "6              pc                0.03  0.13307\n",
       "7            blue                0.02  0.35780\n",
       "8              fc                0.02  0.32546\n",
       "9        dual_sim                0.02  0.43556\n",
       "10           sc_h                0.02  0.30420\n",
       "11      talk_time                0.02  0.32854\n",
       "12        three_g                0.02  0.29124\n",
       "13           wifi                0.02  0.40112\n",
       "14         four_g                0.01  0.50910\n",
       "15          m_dep                0.00  0.96959\n",
       "16        n_cores                0.00  0.84413\n",
       "17    clock_speed               -0.01  0.76782\n",
       "18      mobile_wt               -0.03  0.17554\n",
       "19   touch_screen               -0.03  0.17399"
      ]
     },
     "execution_count": 166,
     "metadata": {},
     "output_type": "execute_result"
    }
   ],
   "source": [
    "# Let's calculate the pearson correlation and p-value. \n",
    "from scipy.stats import pearsonr\n",
    "\n",
    "correlation_coeff = []\n",
    "p_value = []\n",
    "\n",
    "for column in X.columns:\n",
    "    coeff, p_val = pearsonr(X[column], y)\n",
    "    correlation_coeff.append(round(coeff,2))\n",
    "    p_value.append(round(p_val, 5))\n",
    "\n",
    "df_correlation = pd.DataFrame(data = {'Features': X.columns,\n",
    "                                      'Correleation Coeff': correlation_coeff, \n",
    "                                      'P-value': p_value                               \n",
    "                                     })\n",
    "df_correlation.sort_values(by = 'Correleation Coeff', ascending = False).reset_index(drop = True)"
   ]
  },
  {
   "cell_type": "code",
   "execution_count": 180,
   "metadata": {
    "ExecuteTime": {
     "end_time": "2020-06-30T06:36:05.895598Z",
     "start_time": "2020-06-30T06:36:05.522803Z"
    }
   },
   "outputs": [
    {
     "data": {
      "text/plain": [
       "(array([ 0,  1,  2,  3,  4,  5,  6,  7,  8,  9, 10, 11, 12, 13, 14, 15, 16,\n",
       "        17, 18, 19]),\n",
       " <a list of 20 Text major ticklabel objects>)"
      ]
     },
     "execution_count": 180,
     "metadata": {},
     "output_type": "execute_result"
    },
    {
     "data": {
      "image/png": "[encoded data removed]",
      "text/plain": [
       "<Figure size 720x432 with 1 Axes>"
      ]
     },
     "metadata": {
      "needs_background": "light"
     },
     "output_type": "display_data"
    }
   ],
   "source": [
    "plt.figure(figsize=[10, 6])\n",
    "sns.barplot(x = df_correlation['Features'], y=df_correlation['Correleation Coeff'])\n",
    "plt.xticks(rotation = 65)"
   ]
  },
  {
   "cell_type": "code",
   "execution_count": 181,
   "metadata": {
    "ExecuteTime": {
     "end_time": "2020-06-30T06:39:17.028867Z",
     "start_time": "2020-06-30T06:39:14.818867Z"
    }
   },
   "outputs": [
    {
     "data": {
      "text/plain": [
       "0.9275"
      ]
     },
     "execution_count": 181,
     "metadata": {},
     "output_type": "execute_result"
    }
   ],
   "source": [
    "# As can be seen from the dataframe showing correlation coefficients and P-values, there are only 5 features having \n",
    "# p-value < 0.05 and comparatively higher correlation coefficieint. \n",
    "\n",
    "# Those are: 'ram', 'battery_power', 'px_width', 'px_height', 'int_memory'\n",
    "important_features = ['ram', 'battery_power', 'px_width', 'px_height', 'int_memory']\n",
    "\n",
    "X_new = X[important_features]\n",
    "\n",
    "model_performance(X_new, y)"
   ]
  },
  {
   "cell_type": "markdown",
   "metadata": {},
   "source": [
    "As shown above, with the limited features model has provided 92.75% accuracy with 5 important features. "
   ]
  },
  {
   "cell_type": "markdown",
   "metadata": {},
   "source": [
    "## Feature Selection as a Pipeline\n",
    "\n",
    "Feature selection is usually used as a pre-processing step before actual learning. So, it is better to keep this as a pipeline."
   ]
  },
  {
   "cell_type": "code",
   "execution_count": 146,
   "metadata": {
    "ExecuteTime": {
     "end_time": "2020-06-30T05:54:12.605757Z",
     "start_time": "2020-06-30T05:54:09.827812Z"
    }
   },
   "outputs": [
    {
     "data": {
      "text/plain": [
       "0.9109999999999999"
      ]
     },
     "execution_count": 146,
     "metadata": {},
     "output_type": "execute_result"
    }
   ],
   "source": [
    "from sklearn.pipeline import Pipeline\n",
    "from sklearn.ensemble import ExtraTreesClassifier\n",
    "from sklearn.ensemble import RandomForestClassifier\n",
    "from sklearn.feature_selection import SelectFromModel\n",
    "\n",
    "pipe = Pipeline([('feature_selection', SelectFromModel(estimator = ExtraTreesClassifier(), threshold='median')),\n",
    "                 ('classification', ExtraTreesClassifier())]\n",
    "               )\n",
    "\n",
    "cross_val_score(estimator=pipe, X = X, y = y, cv =5).mean()"
   ]
  },
  {
   "cell_type": "code",
   "execution_count": null,
   "metadata": {},
   "outputs": [],
   "source": []
  }
 ],
 "metadata": {
  "kernelspec": {
   "display_name": "Python 3",
   "language": "python",
   "name": "python3"
  },
  "language_info": {
   "codemirror_mode": {
    "name": "ipython",
    "version": 3
   },
   "file_extension": ".py",
   "mimetype": "text/x-python",
   "name": "python",
   "nbconvert_exporter": "python",
   "pygments_lexer": "ipython3",
   "version": "3.7.7"
  },
  "toc": {
   "base_numbering": 1,
   "nav_menu": {},
   "number_sections": true,
   "sideBar": true,
   "skip_h1_title": true,
   "title_cell": "Table of Contents",
   "title_sidebar": "Contents",
   "toc_cell": false,
   "toc_position": {},
   "toc_section_display": true,
   "toc_window_display": true
  },
  "varInspector": {
   "cols": {
    "lenName": 16,
    "lenType": 16,
    "lenVar": 40
   },
   "kernels_config": {
    "python": {
     "delete_cmd_postfix": "",
     "delete_cmd_prefix": "del ",
     "library": "var_list.py",
     "varRefreshCmd": "print(var_dic_list())"
    },
    "r": {
     "delete_cmd_postfix": ") ",
     "delete_cmd_prefix": "rm(",
     "library": "var_list.r",
     "varRefreshCmd": "cat(var_dic_list()) "
    }
   },
   "types_to_exclude": [
    "module",
    "function",
    "builtin_function_or_method",
    "instance",
    "_Feature"
   ],
   "window_display": false
  }
 },
 "nbformat": 4,
 "nbformat_minor": 2
}
